{
  "nbformat": 4,
  "nbformat_minor": 0,
  "metadata": {
    "colab": {
      "name": "Lab_7.ipynb",
      "provenance": [],
      "collapsed_sections": []
    },
    "kernelspec": {
      "name": "python3",
      "display_name": "Python 3"
    },
    "language_info": {
      "name": "python"
    }
  },
  "cells": [
    {
      "cell_type": "markdown",
      "source": [
        "**Basics or strings**"
      ],
      "metadata": {
        "id": "MekTZS8F-vTN"
      }
    },
    {
      "cell_type": "code",
      "execution_count": null,
      "metadata": {
        "id": "kqeP6RIY4aPB"
      },
      "outputs": [],
      "source": [
        "print(\"Hello\")"
      ]
    },
    {
      "cell_type": "code",
      "source": [
        "# defining a variable \n",
        "a = \"Hello\"\n",
        "print(a)"
      ],
      "metadata": {
        "id": "JrSgNQvE_AH_"
      },
      "execution_count": null,
      "outputs": []
    },
    {
      "cell_type": "code",
      "source": [
        "# multiline string \n",
        "a = \"\"\"This is advanced programming class, \n",
        "we are studying about strings.\"\"\"\n",
        "print(a)"
      ],
      "metadata": {
        "id": "JFTUfKB7_LBO"
      },
      "execution_count": null,
      "outputs": []
    },
    {
      "cell_type": "code",
      "source": [
        "# strings are arrays \n",
        "a = \"Hello, World!\"\n",
        "print(a[0])"
      ],
      "metadata": {
        "id": "-biUyMqRCueO"
      },
      "execution_count": null,
      "outputs": []
    },
    {
      "cell_type": "code",
      "source": [
        "# putting loops on arrays \n",
        "for x in \"banana\":\n",
        "  print(x)"
      ],
      "metadata": {
        "id": "HKY0OLwtC0YE"
      },
      "execution_count": null,
      "outputs": []
    },
    {
      "cell_type": "code",
      "source": [
        "# finding lenght of array (string)\n",
        "a = \"Hello, World!\"\n",
        "print(len(a))"
      ],
      "metadata": {
        "id": "10AJsxQqC9Do"
      },
      "execution_count": null,
      "outputs": []
    },
    {
      "cell_type": "code",
      "source": [
        "# finding text in string \n",
        "txt = \"The best things in life are free!\"\n",
        "if \"free\" in txt:\n",
        "  print(\"Yes, 'free' is present.\")"
      ],
      "metadata": {
        "id": "07diYrD9Dxf-"
      },
      "execution_count": null,
      "outputs": []
    },
    {
      "cell_type": "markdown",
      "source": [
        "**Formatting a string**"
      ],
      "metadata": {
        "id": "50Kxdon8EtUa"
      }
    },
    {
      "cell_type": "code",
      "source": [
        "name = \"Eric\"\n",
        "age = 74\n",
        "# Old style \n",
        "\"Hello, %s. You are %s.\" % (name, age)"
      ],
      "metadata": {
        "colab": {
          "base_uri": "https://localhost:8080/",
          "height": 35
        },
        "id": "NmoO-Tn2Eya6",
        "outputId": "f4ee6a2e-9c4f-4766-edee-de3cdce40e8e"
      },
      "execution_count": 10,
      "outputs": [
        {
          "output_type": "execute_result",
          "data": {
            "text/plain": [
              "'Hello, Eric. You are 74.'"
            ],
            "application/vnd.google.colaboratory.intrinsic+json": {
              "type": "string"
            }
          },
          "metadata": {},
          "execution_count": 10
        }
      ]
    },
    {
      "cell_type": "code",
      "source": [
        "# .format\n",
        "\"Hello, {}. You are {}.\".format(name, age)"
      ],
      "metadata": {
        "colab": {
          "base_uri": "https://localhost:8080/",
          "height": 35
        },
        "id": "5LuakR53It2n",
        "outputId": "75b6ec16-7680-4fcf-a823-ad72eb50d295"
      },
      "execution_count": 11,
      "outputs": [
        {
          "output_type": "execute_result",
          "data": {
            "text/plain": [
              "'Hello, Eric. You are 74.'"
            ],
            "application/vnd.google.colaboratory.intrinsic+json": {
              "type": "string"
            }
          },
          "metadata": {},
          "execution_count": 11
        }
      ]
    },
    {
      "cell_type": "code",
      "source": [
        "# f srting \n",
        "f\"Hello, {name}. You are {age}.\""
      ],
      "metadata": {
        "colab": {
          "base_uri": "https://localhost:8080/",
          "height": 35
        },
        "id": "mDr80u6jItjb",
        "outputId": "271af5a7-6a59-462a-c865-8a6a8fd3813e"
      },
      "execution_count": 12,
      "outputs": [
        {
          "output_type": "execute_result",
          "data": {
            "text/plain": [
              "'Hello, Eric. You are 74.'"
            ],
            "application/vnd.google.colaboratory.intrinsic+json": {
              "type": "string"
            }
          },
          "metadata": {},
          "execution_count": 12
        }
      ]
    },
    {
      "cell_type": "code",
      "source": [
        "# concatinate \n",
        "\"Hello, \" + name,  # \"You are,\" + age"
      ],
      "metadata": {
        "id": "4vLxPtLEItDi"
      },
      "execution_count": null,
      "outputs": []
    },
    {
      "cell_type": "markdown",
      "source": [
        "**Slicing of Srting**"
      ],
      "metadata": {
        "id": "5d2hy_QkLvE9"
      }
    },
    {
      "cell_type": "code",
      "source": [
        "b = \"Hello, World!\"\n",
        "# in between\n",
        "print(b[2:8])"
      ],
      "metadata": {
        "id": "eIP8uP_RLzeF"
      },
      "execution_count": null,
      "outputs": []
    },
    {
      "cell_type": "code",
      "source": [
        "# from start \n",
        "print(b[:5])"
      ],
      "metadata": {
        "id": "lFQIZvKwNi8m"
      },
      "execution_count": null,
      "outputs": []
    },
    {
      "cell_type": "code",
      "source": [
        "# till end \n",
        "print(b[6:])"
      ],
      "metadata": {
        "id": "6QVHP5LiNi1p"
      },
      "execution_count": null,
      "outputs": []
    },
    {
      "cell_type": "code",
      "source": [
        "# negative indexing \n",
        "print(b[-7:-1])"
      ],
      "metadata": {
        "id": "nvuIfQhgNirO"
      },
      "execution_count": null,
      "outputs": []
    },
    {
      "cell_type": "markdown",
      "source": [
        "**Field Widths and Alignment**"
      ],
      "metadata": {
        "id": "n2NRjb4d-uHc"
      }
    },
    {
      "cell_type": "code",
      "source": [
        "f'[{\"Hello\":10s}]'"
      ],
      "metadata": {
        "id": "As0ogdehEw73"
      },
      "execution_count": null,
      "outputs": []
    },
    {
      "cell_type": "code",
      "source": [
        "# left alignment \n",
        "f'[{\"Hello\":<15s}]'"
      ],
      "metadata": {
        "id": "p9XvYE_wOjJM"
      },
      "execution_count": null,
      "outputs": []
    },
    {
      "cell_type": "code",
      "source": [
        "# right alignment \n",
        "f'[{\"Hello\":>15s}]'"
      ],
      "metadata": {
        "id": "telmG0kQOi4z"
      },
      "execution_count": null,
      "outputs": []
    },
    {
      "cell_type": "code",
      "source": [
        "# centering \n",
        "f'[{\"hello\":^17}]'"
      ],
      "metadata": {
        "id": "PxehPLc2O33-"
      },
      "execution_count": null,
      "outputs": []
    },
    {
      "cell_type": "markdown",
      "source": [
        "**Concatenating and Repeating Strings**"
      ],
      "metadata": {
        "id": "0dC5jPi5PgpI"
      }
    },
    {
      "cell_type": "code",
      "source": [
        "# concatenation \n",
        "s1 = 'happy'\n",
        "s2 = 'birthday'\n",
        "s1 += ' ' + s2\n",
        "s1"
      ],
      "metadata": {
        "id": "ypoDaX13Pi-V"
      },
      "execution_count": null,
      "outputs": []
    },
    {
      "cell_type": "code",
      "source": [
        "# repeat \n",
        "symbol = '>'\n",
        "symbol *= 5\n",
        "symbol"
      ],
      "metadata": {
        "id": "fMnF0kIRP_3E"
      },
      "execution_count": null,
      "outputs": []
    },
    {
      "cell_type": "markdown",
      "source": [
        "**Modify String**"
      ],
      "metadata": {
        "id": "ThTqaPRlQ1Xk"
      }
    },
    {
      "cell_type": "code",
      "source": [
        "# converting into upper case\n",
        "a = \"Hello, World!\"\n",
        "print(a.upper())"
      ],
      "metadata": {
        "id": "JakFdTbiQ4lq"
      },
      "execution_count": null,
      "outputs": []
    },
    {
      "cell_type": "code",
      "source": [
        "# converting into lower case\n",
        "a = \"Hello, World!\"\n",
        "print(a.lower())"
      ],
      "metadata": {
        "id": "ekCyb_WxQ_bk"
      },
      "execution_count": null,
      "outputs": []
    },
    {
      "cell_type": "code",
      "source": [
        "# removing white space \n",
        "a = \" Hello, World! \"\n",
        "print(a.strip()) # returns \"Hello, World!\" "
      ],
      "metadata": {
        "id": "oXrS2GLWRNhM"
      },
      "execution_count": null,
      "outputs": []
    },
    {
      "cell_type": "code",
      "source": [
        "# replacing string \n",
        "a = \"Hello, World!\"\n",
        "print(a.replace(\"H\", \"J\"))"
      ],
      "metadata": {
        "id": "lHwuURVaSDtM"
      },
      "execution_count": null,
      "outputs": []
    },
    {
      "cell_type": "code",
      "source": [
        "# split string \n",
        "a = \"Hello, World!\"\n",
        "print(a.split(\",\")) # returns ['Hello', ' World!'] "
      ],
      "metadata": {
        "id": "d6UNu71uSKZb"
      },
      "execution_count": null,
      "outputs": []
    },
    {
      "cell_type": "markdown",
      "source": [
        "**Creating Text Files**"
      ],
      "metadata": {
        "id": "jJnCkMaYS1Xi"
      }
    },
    {
      "cell_type": "code",
      "source": [
        "#Creating a file\n",
        "with open('accounts.txt', mode='w') as accounts:\n",
        "    accounts.write('100 Jones 24.98\\n')\n",
        "    accounts.write('200 Doe 345.67\\n')\n",
        "    accounts.write('300 White 0.00\\n')\n",
        "    accounts.write('400 Stone -42.16\\n')\n",
        "    accounts.write('500 Rich 224.62\\n')"
      ],
      "metadata": {
        "id": "KEmcJj6TS5Eq"
      },
      "execution_count": 47,
      "outputs": []
    },
    {
      "cell_type": "code",
      "source": [
        "# reading and modifying a file \n",
        "with open('accounts.txt', mode='r') as accounts:\n",
        "    print(f'{\"Account\":<10}{\"Name\":<10}{\"Balance\":>10}')\n",
        "    for record in accounts:\n",
        "        account, name, balance = record.split()\n",
        "        print(f'{account:<10}{name:<10}{balance:>10}')"
      ],
      "metadata": {
        "id": "mE7bfRjXVTiz"
      },
      "execution_count": null,
      "outputs": []
    },
    {
      "cell_type": "code",
      "source": [
        "# changing text \n",
        "accounts = open('accounts.txt', 'r')\n",
        "temp_file = open('temp_file.txt', 'w')\n",
        "with accounts, temp_file:\n",
        "    for record in accounts:\n",
        "        account, name, balance = record.split()\n",
        "        if account != '300':\n",
        "            temp_file.write(record)\n",
        "        else:\n",
        "            new_record = ' '.join([account, 'Williams', balance])\n",
        "            temp_file.write(new_record + '\\n')\n",
        "r = open('temp_file.txt', 'r')\n",
        "print(r.read()) "
      ],
      "metadata": {
        "id": "wL6Ty8VJVyMy"
      },
      "execution_count": null,
      "outputs": []
    },
    {
      "cell_type": "markdown",
      "source": [
        "**Matplotlib**"
      ],
      "metadata": {
        "id": "68OBJTAdZd19"
      }
    },
    {
      "cell_type": "code",
      "source": [
        "import matplotlib.pyplot as plt\n",
        "import numpy as np\n",
        "\n",
        "xpoints = np.array([0, 6])\n",
        "ypoints = np.array([0, 250])\n",
        "\n",
        "# line plot \n",
        "plt.plot(xpoints, ypoints)\n",
        "plt.show()"
      ],
      "metadata": {
        "id": "8BVBIMG6Zf-Q"
      },
      "execution_count": null,
      "outputs": []
    },
    {
      "cell_type": "code",
      "source": [
        "# plotting points \n",
        "plt.plot(xpoints, ypoints, 'o')\n",
        "plt.show()"
      ],
      "metadata": {
        "id": "joR0EnlpSLgL"
      },
      "execution_count": null,
      "outputs": []
    },
    {
      "cell_type": "code",
      "source": [
        "# multiple points \n",
        "xpoints = np.array([1, 2, 6, 8])\n",
        "ypoints = np.array([3, 8, 1, 10])\n",
        "\n",
        "plt.plot(xpoints, ypoints)\n",
        "plt.show()"
      ],
      "metadata": {
        "id": "CCFj5rF7SS4s"
      },
      "execution_count": null,
      "outputs": []
    },
    {
      "cell_type": "code",
      "source": [
        "# default x points \n",
        "ypoints = np.array([3, 8, 1, 10, 5, 7])\n",
        "\n",
        "plt.plot(ypoints)\n",
        "plt.show()"
      ],
      "metadata": {
        "id": "l83iA4IfSeJv"
      },
      "execution_count": null,
      "outputs": []
    },
    {
      "cell_type": "code",
      "source": [
        "# placing markers \n",
        "ypoints = np.array([3, 8, 1, 10])\n",
        "\n",
        "plt.plot(ypoints, marker = 'o')\n",
        "plt.show()"
      ],
      "metadata": {
        "id": "ZU0nxQBbSmUN"
      },
      "execution_count": null,
      "outputs": []
    },
    {
      "cell_type": "code",
      "source": [
        "# string format\n",
        "ypoints = np.array([3, 8, 1, 10])\n",
        "\n",
        "plt.plot(ypoints, 'o:r')\n",
        "plt.show()"
      ],
      "metadata": {
        "id": "g-RFotw9TekS"
      },
      "execution_count": null,
      "outputs": []
    },
    {
      "cell_type": "code",
      "source": [
        "plt.plot(ypoints, marker = 'o', ms = 20, mec = 'hotpink', mfc = 'hotpink')"
      ],
      "metadata": {
        "id": "qJliSWpOTm7b"
      },
      "execution_count": null,
      "outputs": []
    },
    {
      "cell_type": "code",
      "source": [
        "# color and width of line \n",
        "ypoints = np.array([3, 8, 1, 10])\n",
        "\n",
        "plt.plot(ypoints, linewidth = '20.5', c = 'hotpink')\n",
        "plt.show()"
      ],
      "metadata": {
        "id": "Ih-fWogyUAc8"
      },
      "execution_count": null,
      "outputs": []
    },
    {
      "cell_type": "code",
      "source": [
        "# Labelling of Plots \n",
        "import numpy as np\n",
        "import matplotlib.pyplot as plt\n",
        "\n",
        "x = np.array([80, 85, 90, 95, 100, 105, 110, 115, 120, 125])\n",
        "y = np.array([240, 250, 260, 270, 280, 290, 300, 310, 320, 330])\n",
        "\n",
        "plt.plot(x, y)\n",
        "\n",
        "plt.title(\"Sports Watch Data\")\n",
        "plt.xlabel(\"Average Pulse\")\n",
        "plt.ylabel(\"Calorie Burnage\")\n",
        "# turning on the Grid \n",
        "plt.grid()\n",
        "\n",
        "plt.show()"
      ],
      "metadata": {
        "id": "3YnJRV15UX0E"
      },
      "execution_count": null,
      "outputs": []
    },
    {
      "cell_type": "code",
      "source": [
        "# subplotting \n",
        "#plot 1:\n",
        "x = np.array([0, 1, 2, 3])\n",
        "y = np.array([3, 8, 1, 10])\n",
        "\n",
        "plt.subplot(2, 1, 1)\n",
        "plt.plot(x,y)\n",
        "\n",
        "#plot 2:\n",
        "x = np.array([0, 1, 2, 3])\n",
        "y = np.array([10, 20, 30, 40])\n",
        "\n",
        "plt.subplot(2, 1, 2)\n",
        "plt.plot(x,y)\n",
        "\n",
        "plt.show()"
      ],
      "metadata": {
        "id": "d0eBnBf3VgSs"
      },
      "execution_count": null,
      "outputs": []
    },
    {
      "cell_type": "code",
      "source": [
        "import matplotlib.pyplot as plt\n",
        "import numpy as np\n",
        "\n",
        "age = np.array([5,7,8,7,2,17,2,9,4,11,12,9,6])\n",
        "speed = np.array([99,86,87,88,111,86,103,87,94,78,77,85,86])\n",
        "\n",
        "plt.xlabel(\"Age of the Car\")\n",
        "plt.ylabel(\"Maximum Speed\")\n",
        "\n",
        "plt.scatter(age, speed)\n",
        "plt.show()"
      ],
      "metadata": {
        "id": "5d5b5TTGWukw"
      },
      "execution_count": null,
      "outputs": []
    },
    {
      "cell_type": "code",
      "source": [
        "#age and speed of Toyota Cars \n",
        "x = np.array([5,7,8,7,2,17,2,9,4,11,12,9,6])\n",
        "y = np.array([99,86,87,88,111,86,103,87,94,78,77,85,86])\n",
        "plt.scatter(x, y)\n",
        "\n",
        "#age and speed of Honda Cars \n",
        "x = np.array([2,2,8,1,15,8,12,9,7,3,11,4,7,14,12])\n",
        "y = np.array([100,105,84,105,90,99,90,95,94,100,79,112,91,80,85])\n",
        "plt.scatter(x, y)\n",
        "\n",
        "#xpoints = np.array([1, 16])\n",
        "#ypoints = np.array([108, 80])\n",
        "#plt.plot(xpoints, ypoints)\n",
        "\n",
        "\n",
        "plt.show() "
      ],
      "metadata": {
        "id": "BqdN7Qb2XQZy"
      },
      "execution_count": null,
      "outputs": []
    },
    {
      "cell_type": "code",
      "source": [
        "# plotting function \n",
        "fig, ax = plt.subplots(figsize=(5, 2.7))\n",
        "\n",
        "t = np.arange(0.0, 5.0, 0.01)\n",
        "s = np.cos(2 * np.pi * t)\n",
        "line, = ax.plot(t, s, lw=2)\n",
        "\n",
        "ax.annotate('local max', xy=(2, 1), xytext=(3, 1.5),\n",
        "            arrowprops=dict(facecolor='black', shrink=0.05))\n",
        "\n",
        "ax.set_ylim(-2, 2);"
      ],
      "metadata": {
        "id": "dGQa2hx_ZRcy"
      },
      "execution_count": null,
      "outputs": []
    },
    {
      "cell_type": "code",
      "source": [
        "# Histograms\n",
        "import matplotlib.pyplot as plt\n",
        "import numpy as np\n",
        "\n",
        "x = np.random.normal(170, 10, 250)\n",
        "\n",
        "plt.hist(x)\n",
        "plt.show() "
      ],
      "metadata": {
        "colab": {
          "base_uri": "https://localhost:8080/",
          "height": 265
        },
        "id": "wR9c-lvWYhoZ",
        "outputId": "7d206d62-5e08-45f5-9b1f-8b694eebb449"
      },
      "execution_count": 22,
      "outputs": [
        {
          "output_type": "display_data",
          "data": {
            "text/plain": [
              "<Figure size 432x288 with 1 Axes>"
            ],
            "image/png": "[encoded data removed]"
          },
          "metadata": {
            "needs_background": "light"
          }
        }
      ]
    }
  ]
}